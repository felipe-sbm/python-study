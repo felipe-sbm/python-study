{
 "cells": [
  {
   "cell_type": "markdown",
   "metadata": {},
   "source": [
    "### **Exercícios de Lógica de Negócio**\n",
    "---\n",
    "#### **6. Cálculo de Abono Salarial**\n",
    "Uma empresa vai dar um abono aos empregados que tenham mais de 1 ano de casa: **10%** do salário para os que tenham menos de **10** anos e **25%** do salário para os demais, acima de **10** anos de trabalho. Implemente um programa que, lendo o tempo de trabalho e o salário atual do colaborador, calcule o abono do funcionário."
   ]
  },
  {
   "cell_type": "code",
   "execution_count": null,
   "metadata": {
    "vscode": {
     "languageId": "plaintext"
    }
   },
   "outputs": [],
   "source": []
  }
 ],
 "metadata": {
  "language_info": {
   "name": "python"
  }
 },
 "nbformat": 4,
 "nbformat_minor": 2
}
