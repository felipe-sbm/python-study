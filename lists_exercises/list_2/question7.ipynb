{
 "cells": [
  {
   "cell_type": "markdown",
   "metadata": {},
   "source": [
    "### **Exercícios de Lógica de Negócio**\n",
    "---\n",
    "#### **7. Cálculo de IMC**\n",
    "Implemente um programa que calcule o **IMC** (Índice de Massa Corporal) de um indivíduo. Além de mostrar o valor do IMC, o programa também deve informar o status do peso de acordo com a listagem abaixo:\n",
    "- a. Abaixo do Peso: $IMC < 18,5$\n",
    "- b. Peso Normal: $18,5 \\le IMC < 25$\n",
    "- c. Sobrepeso: $25 \\le IMC < 30$\n",
    "- d. Obesidade Grau I: $30 \\le IMC < 35$\n",
    "- e. Obesidade Grau II: $35 \\le IMC < 40$\n",
    "- f. Obesidade Mórbida: $IMC \\ge 40$"
   ]
  },
  {
   "cell_type": "code",
   "execution_count": null,
   "metadata": {
    "vscode": {
     "languageId": "plaintext"
    }
   },
   "outputs": [],
   "source": []
  }
 ],
 "metadata": {
  "language_info": {
   "name": "python"
  }
 },
 "nbformat": 4,
 "nbformat_minor": 2
}
