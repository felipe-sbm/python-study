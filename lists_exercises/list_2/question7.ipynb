{
 "cells": [
  {
   "cell_type": "markdown",
   "metadata": {},
   "source": [
    "### **Exercícios de Lógica de Negócio**\n",
    "---\n",
    "#### **7. Cálculo de IMC**\n",
    "Implemente um programa que calcule o **IMC** (Índice de Massa Corporal) de um indivíduo. Além de mostrar o valor do IMC, o programa também deve informar o status do peso de acordo com a listagem abaixo:\n",
    "- a. Abaixo do Peso: $IMC < 18,5$\n",
    "- b. Peso Normal: $18,5 \\le IMC < 25$\n",
    "- c. Sobrepeso: $25 \\le IMC < 30$\n",
    "- d. Obesidade Grau I: $30 \\le IMC < 35$\n",
    "- e. Obesidade Grau II: $35 \\le IMC < 40$\n",
    "- f. Obesidade Mórbida: $IMC \\ge 40$"
   ]
  },
  {
   "cell_type": "code",
   "execution_count": 5,
   "metadata": {},
   "outputs": [
    {
     "name": "stdout",
     "output_type": "stream",
     "text": [
      "Abaixo do peso! IMC = 17.1\n"
     ]
    }
   ],
   "source": [
    "peso = float(input(\"Informe o seu peso: \"))\n",
    "altura = float(input(\"Informe sua altura (ex: 1.50, 1.81, etc.): \"))\n",
    "\n",
    "imc = round((peso)/pow(2, altura), 1)\n",
    "\n",
    "if imc < 18.5:\n",
    "    print(\"Abaixo do peso! IMC =\", imc)\n",
    "elif imc >= 18.5 and imc < 25:\n",
    "    print(\"Você está no peso normal, IMC =\", imc)\n",
    "elif imc >= 40 and imc< 35:\n",
    "    print(\"Você está com obesidade grau 1, IMC =\", imc)\n",
    "elif imc >= 35 and imc< 40:\n",
    "    print(\"Você está com obesidade grau 2, IMC =\", imc)\n",
    "elif imc >= 40:\n",
    "    print(\"VOCÊ ESTÁ COM OBESIDADE MÓRBIDA! IMC=\", imc)"
   ]
  }
 ],
 "metadata": {
  "kernelspec": {
   "display_name": ".venv",
   "language": "python",
   "name": "python3"
  },
  "language_info": {
   "codemirror_mode": {
    "name": "ipython",
    "version": 3
   },
   "file_extension": ".py",
   "mimetype": "text/x-python",
   "name": "python",
   "nbconvert_exporter": "python",
   "pygments_lexer": "ipython3",
   "version": "3.13.3"
  }
 },
 "nbformat": 4,
 "nbformat_minor": 2
}
