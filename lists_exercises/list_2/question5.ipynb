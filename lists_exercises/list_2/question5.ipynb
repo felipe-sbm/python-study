{
 "cells": [
  {
   "cell_type": "markdown",
   "metadata": {},
   "source": [
    "### **Exercícios de Condicionais e Lógica Simples**\n",
    "---\n",
    "####  **5. Paridade e Sinal**\n",
    "Implemente um programa que informe se um número é par ou ímpar e se é positivo ou negativo.\n",
    "**Exemplos:**\n",
    "- Entrada: `-3`, Saída: `ímpar e negativo`.\n",
    "- Entrada: `8`, Saída: `par e positivo`.\n",
    "- Entrada: `-22`, Saída: `par e negativo`.\n",
    "- Entrada: `17`, Saída: `ímpar e positivo`."
   ]
  },
  {
   "cell_type": "code",
   "execution_count": null,
   "metadata": {
    "vscode": {
     "languageId": "plaintext"
    }
   },
   "outputs": [],
   "source": []
  }
 ],
 "metadata": {
  "language_info": {
   "name": "python"
  }
 },
 "nbformat": 4,
 "nbformat_minor": 2
}
