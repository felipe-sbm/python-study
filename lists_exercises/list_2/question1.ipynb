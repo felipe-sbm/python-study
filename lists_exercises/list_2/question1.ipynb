{
 "cells": [
  {
   "cell_type": "markdown",
   "metadata": {},
   "source": [
    "### **Exercícios de Condicionais e Lógica Simples**\n",
    "---\n",
    "####  **1. Divisão Segura**\n",
    "\n",
    "Implemente um programa que faça a divisão de dois números $(a/b)$ fornecidos pelo usuário. O programa deve verificar se o denominador `(b)` é diferente de zero. Caso seja zero, apresente uma mensagem para o usuário informando que a divisão não pode ser feita."
   ]
  },
  {
   "cell_type": "code",
   "execution_count": null,
   "metadata": {
    "vscode": {
     "languageId": "plaintext"
    }
   },
   "outputs": [],
   "source": []
  }
 ],
 "metadata": {
  "language_info": {
   "name": "python"
  }
 },
 "nbformat": 4,
 "nbformat_minor": 2
}
