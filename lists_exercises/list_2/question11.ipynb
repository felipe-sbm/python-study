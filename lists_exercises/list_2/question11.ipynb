{
 "cells": [
  {
   "cell_type": "markdown",
   "metadata": {},
   "source": [
    "### **Exercícios de Lógica Combinada e Fluxo de Controle**\n",
    "---\n",
    "####  **11. Cálculo de Preço de Energia Elétrica**\n",
    "Escreva um programa que calcule o preço a pagar pelo fornecimento de energia elétrica. Pergunte a quantidade de `kWh` consumida e o tipo de instalação: **R** para residências, **I** para indústrias e **C** para comércios. Calcule o preço a pagar de acordo com a tabela a seguir:\n",
    "\n",
    "| Tipo | Faixa (kWh) | Preço |\n",
    "|---|---|---|\n",
    "| Residencial | Até 500 | R$ 0,40 |\n",
    "| | Acima de 500 | R$ 0,65 |\n",
    "| Comercial | Até 1000 | R$ 0,55 |\n",
    "| | Acima de 1000 | R$ 0,60 |\n",
    "| Industrial | Até 5000 | R$ 0,55 |\n",
    "| | Acima de 5000 | R$ 0,60 |"
   ]
  },
  {
   "cell_type": "code",
   "execution_count": null,
   "metadata": {
    "vscode": {
     "languageId": "plaintext"
    }
   },
   "outputs": [],
   "source": []
  }
 ],
 "metadata": {
  "language_info": {
   "name": "python"
  }
 },
 "nbformat": 4,
 "nbformat_minor": 2
}
