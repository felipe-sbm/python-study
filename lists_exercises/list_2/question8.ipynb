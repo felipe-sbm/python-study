{
 "cells": [
  {
   "cell_type": "markdown",
   "metadata": {},
   "source": [
    "\n",
    "### **Exercícios de Lógica de Negócio**\n",
    "---\n",
    "#### **8. Controle de Irrigação**\n",
    "Implemente um sistema de controle de irrigação automatizado. O programa receberá como entrada a temperatura atual e a umidade do solo, alterando a tensão da bomba (máximo de 12V) de acordo com as seguintes regras:\n",
    "- a. Se temperatura estiver acima de **30** graus: Tensão da bomba é **100%** de sua capacidade.\n",
    "- b. Se a temperatura estiver entre **20** e **29** e umidade for **baixa ou média**: Tensão da bomba é **80%** de sua capacidade.\n",
    "- c. Se a temperatura estiver entre **20** e **29** e umidade **alta**: Tensão da bomba é **60%**.\n",
    "- d. Se temperatura estiver entre **10** e **19** e a umidade for diferente de **alta**: Tensão da bomba é **50%**.\n",
    "- e. Se temperatura estiver entre **10** e **19** e a umidade for **alta**: Tensão da bomba é **30%**.\n",
    "- f. Se a temperatura estiver abaixo de **10**: Tensão da bomba é **15%**."
   ]
  },
  {
   "cell_type": "code",
   "execution_count": null,
   "metadata": {
    "vscode": {
     "languageId": "plaintext"
    }
   },
   "outputs": [],
   "source": []
  }
 ],
 "metadata": {
  "language_info": {
   "name": "python"
  }
 },
 "nbformat": 4,
 "nbformat_minor": 2
}
