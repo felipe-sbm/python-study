{
 "cells": [
  {
   "cell_type": "markdown",
   "metadata": {},
   "source": [
    "### **Exercícios de Condicionais e Lógica Simples**\n",
    "---\n",
    "####  **2. Números Ordenados**\n",
    "Implemente um programa que leia dois números e mostre, na saída, os números ordenados.\n",
    "**Exemplo:** Entrada: `7` e `4`. Saída: \"Números ordenados: `4`, `7`\"."
   ]
  },
  {
   "cell_type": "code",
   "execution_count": null,
   "metadata": {
    "vscode": {
     "languageId": "plaintext"
    }
   },
   "outputs": [],
   "source": []
  }
 ],
 "metadata": {
  "language_info": {
   "name": "python"
  }
 },
 "nbformat": 4,
 "nbformat_minor": 2
}
