{
 "cells": [
  {
   "cell_type": "markdown",
   "metadata": {},
   "source": [
    "### **Exercícios de Lógica Combinada e Fluxo de Controle**\n",
    "---\n",
    "####  **9. Calculadora Simples**\n",
    "Escreva um programa que leia dois números e que pergunte qual operação você deseja realizar. Você deve poder calcular a soma `(+)`, subtração `(-)`, multiplicação `(*)` e divisão `(/)`. Exiba o resultado da operação solicitada."
   ]
  },
  {
   "cell_type": "code",
   "execution_count": null,
   "metadata": {
    "vscode": {
     "languageId": "plaintext"
    }
   },
   "outputs": [],
   "source": []
  }
 ],
 "metadata": {
  "language_info": {
   "name": "python"
  }
 },
 "nbformat": 4,
 "nbformat_minor": 2
}
