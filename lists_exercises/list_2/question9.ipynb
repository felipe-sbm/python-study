{
 "cells": [
  {
   "cell_type": "markdown",
   "metadata": {},
   "source": [
    "### **Exercícios de Lógica Combinada e Fluxo de Controle**\n",
    "---\n",
    "####  **9. Calculadora Simples**\n",
    "Escreva um programa que leia dois números e que pergunte qual operação você deseja realizar. Você deve poder calcular a soma `(+)`, subtração `(-)`, multiplicação `(*)` e divisão `(/)`. Exiba o resultado da operação solicitada."
   ]
  },
  {
   "cell_type": "code",
   "execution_count": 1,
   "metadata": {},
   "outputs": [
    {
     "name": "stdout",
     "output_type": "stream",
     "text": [
      "999899990001.0\n"
     ]
    }
   ],
   "source": [
    "# Usando somente conceitos que foram lecionados,\n",
    "# não irei colocar tratamento de erros nem um dicionário.\n",
    "\n",
    "primeiroValor = float(input(\"Informe o primeiro número para calcular uma operação: \"))\n",
    "SegundoValor = float(input(\"Informe o segundo número para calcular uma operação: \"))\n",
    "operação = input(\"Qual operação você deseja realizar?\").lower()\n",
    "\n",
    "if (operação == \"+\"\n",
    "    or operação == \"adição\"\n",
    "    or operação == \"adiçao\"\n",
    "    or operação == \"adicao\"\n",
    "    or operação == \"soma\"):\n",
    "    print(primeiroValor + SegundoValor)\n",
    "elif (operação == \"-\"\n",
    "    or operação == \"subtração\"\n",
    "    or operação == \"subtraçao\"\n",
    "    or operação == \"subtracao\"):\n",
    "    print(primeiroValor - SegundoValor)\n",
    "elif (operação == \"*\"\n",
    "    or operação == \"multiplicação\"\n",
    "    or operação == \"multiplicaçao\"\n",
    "    or operação == \"multiplicacao\"):\n",
    "    print(primeiroValor * SegundoValor)\n",
    "elif (operação == \"/\"\n",
    "    or operação == \"divisão\"\n",
    "    or operação == \"divisao\"):\n",
    "    print(primeiroValor / SegundoValor)"
   ]
  }
 ],
 "metadata": {
  "kernelspec": {
   "display_name": ".venv",
   "language": "python",
   "name": "python3"
  },
  "language_info": {
   "codemirror_mode": {
    "name": "ipython",
    "version": 3
   },
   "file_extension": ".py",
   "mimetype": "text/x-python",
   "name": "python",
   "nbconvert_exporter": "python",
   "pygments_lexer": "ipython3",
   "version": "3.13.3"
  }
 },
 "nbformat": 4,
 "nbformat_minor": 2
}
