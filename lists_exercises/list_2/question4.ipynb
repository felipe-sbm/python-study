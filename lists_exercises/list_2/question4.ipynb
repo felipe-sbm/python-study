{
 "cells": [
  {
   "cell_type": "markdown",
   "metadata": {},
   "source": [
    "### **Exercícios de Condicionais e Lógica Simples**\n",
    "---\n",
    "####  **4. Valor Textual de Número**\n",
    "Implemente um programa que leia um valor inteiro de 0 a 9 e imprima o valor textual do número informado.\n",
    "**Exemplo:** Entrada: `3`, Saída: `Três`."
   ]
  },
  {
   "cell_type": "code",
   "execution_count": null,
   "metadata": {
    "vscode": {
     "languageId": "plaintext"
    }
   },
   "outputs": [],
   "source": []
  }
 ],
 "metadata": {
  "language_info": {
   "name": "python"
  }
 },
 "nbformat": 4,
 "nbformat_minor": 2
}
