{
 "cells": [
  {
   "cell_type": "markdown",
   "metadata": {},
   "source": [
    "### **Exercícios de Condicionais e Lógica Simples**\n",
    "---\n",
    "####  **4. Valor Textual de Número**\n",
    "Implemente um programa que leia um valor inteiro de 0 a 9 e imprima o valor textual do número informado.\n",
    "**Exemplo:** Entrada: `3`, Saída: `Três`."
   ]
  },
  {
   "cell_type": "code",
   "execution_count": 1,
   "metadata": {},
   "outputs": [
    {
     "name": "stdout",
     "output_type": "stream",
     "text": [
      "Zero\n"
     ]
    }
   ],
   "source": [
    "número = int(input(\"Informe um valor inteiro para receber o nome: \"))\n",
    "\n",
    "if número == 1:\n",
    "    print(\"Um\")\n",
    "elif número == 2:\n",
    "    print(\"Dois\")\n",
    "elif número == 3:\n",
    "    print(\"Três\")\n",
    "elif número == 4:\n",
    "    print(\"Quatro\")\n",
    "elif número == 5:\n",
    "    print(\"Cinco\")\n",
    "elif número == 6:\n",
    "    print(\"Seis\")\n",
    "elif número == 7:\n",
    "    print(\"Sete\")\n",
    "elif número == 8:\n",
    "    print(\"Oito\")\n",
    "elif número == 9:\n",
    "    print(\"Nove\")\n",
    "elif número == 0:\n",
    "    print(\"Zero\")"
   ]
  }
 ],
 "metadata": {
  "kernelspec": {
   "display_name": ".venv",
   "language": "python",
   "name": "python3"
  },
  "language_info": {
   "codemirror_mode": {
    "name": "ipython",
    "version": 3
   },
   "file_extension": ".py",
   "mimetype": "text/x-python",
   "name": "python",
   "nbconvert_exporter": "python",
   "pygments_lexer": "ipython3",
   "version": "3.13.3"
  }
 },
 "nbformat": 4,
 "nbformat_minor": 2
}
