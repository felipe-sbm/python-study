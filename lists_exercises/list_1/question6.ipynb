{
 "cells": [
  {
   "cell_type": "markdown",
   "id": "aa2083a6",
   "metadata": {},
   "source": [
    "### Exercícios de Operações e Condicionais\n",
    "---\n",
    "#### **6. Operações Matemáticas**\n",
    "\n",
    "Implemente um programa que leia dois valores e realize as quatro operações básicas da matemática. Mostre no terminal o resultado de cada operação.\n",
    "\n",
    "Exemplo para uma entrada 7 e 5:\n",
    "\n",
    "```\n",
    "Soma de 7 e 5 é 12\n",
    "Subtracao de 7 e 5 é 2\n",
    "A multiplicação entre 7 e 5 é 35\n",
    "A divisão é 1.4\n",
    "```\n"
   ]
  },
  {
   "cell_type": "code",
   "execution_count": 3,
   "id": "a95d5683",
   "metadata": {},
   "outputs": [
    {
     "name": "stdout",
     "output_type": "stream",
     "text": [
      "\n",
      "Soma de 7 e 5 é 12\n",
      "Subtração de 7 e 5 é 2\n",
      "A multiplicação entre 7 e 5 é 35\n",
      "A divisão é 1.4\n",
      "\n"
     ]
    }
   ],
   "source": [
    "primeiroNúmero = int(input(\"Informe um número: \"))\n",
    "segundoNúmero = int(input(\"Digite outro número: \"))\n",
    "\n",
    "soma = primeiroNúmero + segundoNúmero\n",
    "subtração = primeiroNúmero - segundoNúmero\n",
    "multiplicação = primeiroNúmero * segundoNúmero\n",
    "divisão = primeiroNúmero / segundoNúmero\n",
    "\n",
    "print(f\"\"\"\n",
    "Soma de {primeiroNúmero} e {segundoNúmero} é {soma}\n",
    "Subtração de {primeiroNúmero} e {segundoNúmero} é {subtração}\n",
    "A multiplicação entre {primeiroNúmero} e {segundoNúmero} é {multiplicação}\n",
    "A divisão é {divisão}\n",
    "\"\"\")"
   ]
  }
 ],
 "metadata": {
  "kernelspec": {
   "display_name": ".venv",
   "language": "python",
   "name": "python3"
  },
  "language_info": {
   "codemirror_mode": {
    "name": "ipython",
    "version": 3
   },
   "file_extension": ".py",
   "mimetype": "text/x-python",
   "name": "python",
   "nbconvert_exporter": "python",
   "pygments_lexer": "ipython3",
   "version": "3.13.3"
  }
 },
 "nbformat": 4,
 "nbformat_minor": 5
}
