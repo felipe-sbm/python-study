{
 "cells": [
  {
   "cell_type": "markdown",
   "id": "3731f809",
   "metadata": {},
   "source": [
    "### Exercícios de Operações e Condicionais\n",
    "---\n",
    "#### **8. Conversão de Temperatura**\n",
    "\n",
    "Construa um programa que, dado uma temperatura em Celsius, forneça na saída a temperatura em Fahrenheit.\n"
   ]
  },
  {
   "cell_type": "code",
   "execution_count": 5,
   "id": "aa66f194",
   "metadata": {},
   "outputs": [
    {
     "name": "stdout",
     "output_type": "stream",
     "text": [
      "A temperatura em Fahrenheit é de: 59.00° F.\n"
     ]
    }
   ],
   "source": [
    "celcius = float(input(\"Informe a temperatura em celcius: \"))\n",
    "\n",
    "fahrenheit = (celcius * (9/5)) + 32\n",
    "\n",
    "print(\"A temperatura em Fahrenheit é de: %.2f° F.\" % fahrenheit)"
   ]
  }
 ],
 "metadata": {
  "kernelspec": {
   "display_name": ".venv",
   "language": "python",
   "name": "python3"
  },
  "language_info": {
   "codemirror_mode": {
    "name": "ipython",
    "version": 3
   },
   "file_extension": ".py",
   "mimetype": "text/x-python",
   "name": "python",
   "nbconvert_exporter": "python",
   "pygments_lexer": "ipython3",
   "version": "3.13.3"
  }
 },
 "nbformat": 4,
 "nbformat_minor": 5
}
