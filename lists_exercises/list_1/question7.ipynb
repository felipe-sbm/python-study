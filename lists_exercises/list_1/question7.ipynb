{
 "cells": [
  {
   "cell_type": "markdown",
   "id": "28437d52",
   "metadata": {},
   "source": [
    "### Exercícios de Operações e Condicionais\n",
    "---\n",
    "#### **7. Média Aritmética e Condição**\n",
    "\n",
    "Construa um programa que calcule a média aritmética entre quatro notas bimestrais fornecidas por um aluno. O programa deve exibir na saída a nota e o valor `1`, caso a nota seja maior ou igual a 7, ou `0` caso não seja.\n"
   ]
  },
  {
   "cell_type": "code",
   "execution_count": null,
   "id": "02c19029",
   "metadata": {},
   "outputs": [
    {
     "name": "stdout",
     "output_type": "stream",
     "text": [
      "Média final: 7.25 Situação: 1\n"
     ]
    }
   ],
   "source": [
    "nota1 = float(input(\"Informe sua primeira nota: \"))\n",
    "nota2 = float(input(\"Informe sua segundaa nota: \"))\n",
    "nota3 = float(input(\"Informe sua terceira nota: \"))\n",
    "nota4 = float(input(\"Informe sua quarta nota: \"))\n",
    "\n",
    "média = (nota1 + nota2 + nota3 + nota4) / 4\n",
    "situação = int(média >= 7)\n",
    "\n",
    "print(\"Média final:\", média, \"Situação:\", situação)"
   ]
  }
 ],
 "metadata": {
  "kernelspec": {
   "display_name": ".venv",
   "language": "python",
   "name": "python3"
  },
  "language_info": {
   "codemirror_mode": {
    "name": "ipython",
    "version": 3
   },
   "file_extension": ".py",
   "mimetype": "text/x-python",
   "name": "python",
   "nbconvert_exporter": "python",
   "pygments_lexer": "ipython3",
   "version": "3.13.3"
  }
 },
 "nbformat": 4,
 "nbformat_minor": 5
}
