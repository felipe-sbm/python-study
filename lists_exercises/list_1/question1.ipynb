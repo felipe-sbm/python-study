{
 "cells": [
  {
   "cell_type": "markdown",
   "id": "c2bfd8e4",
   "metadata": {},
   "source": [
    "### Exercícios de Lógica de Programação\n",
    "---\n",
    "#### **1. Manipulação de Variáveis**\n",
    "\n",
    "Dado as seguintes variáveis: `dia = 10`, `mes = 7`, `ano = 2000`, `peso = 3.4`, `sexo = ‘M’`.\n",
    "\n",
    "Implemente um programa com a seguinte saída:\n",
    "\n",
    "```\n",
    "Dados do Nascimento\n",
    "Data: 10/7/2000\n",
    "Peso: 3.4 Kg - Sexo: M\n",
    "```"
   ]
  },
  {
   "cell_type": "code",
   "execution_count": 1,
   "id": "bab911c1",
   "metadata": {},
   "outputs": [
    {
     "name": "stdout",
     "output_type": "stream",
     "text": [
      "Dados do Nascimento\n",
      "Data: 10/7/2000\n",
      "Peso: 3.4 Kg - Sexo: M\n"
     ]
    }
   ],
   "source": [
    "dia = 10\n",
    "mes = 7\n",
    "ano = 2000\n",
    "peso = 3.4\n",
    "sexo = \"M\"\n",
    "\n",
    "print(\"Dados do Nascimento\")\n",
    "print(f\"Data: {dia}/{mes}/{ano}\")\n",
    "print(f\"Peso: {peso} Kg - Sexo: {sexo}\")"
   ]
  }
 ],
 "metadata": {
  "kernelspec": {
   "display_name": ".venv",
   "language": "python",
   "name": "python3"
  },
  "language_info": {
   "codemirror_mode": {
    "name": "ipython",
    "version": 3
   },
   "file_extension": ".py",
   "mimetype": "text/x-python",
   "name": "python",
   "nbconvert_exporter": "python",
   "pygments_lexer": "ipython3",
   "version": "3.13.3"
  }
 },
 "nbformat": 4,
 "nbformat_minor": 5
}
