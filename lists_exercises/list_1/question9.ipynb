{
 "cells": [
  {
   "cell_type": "markdown",
   "id": "59a97765",
   "metadata": {},
   "source": [
    "### Exercícios de Operações e Condicionais\n",
    "---\n",
    "#### **9. Verificação de Caractere em String**\n",
    "\n",
    "Peça ao usuário que digite um e-mail e verifique se ele contém o caractere `\"@\"`. Exiba o resultado.\n"
   ]
  },
  {
   "cell_type": "code",
   "execution_count": 1,
   "id": "e1eb81bb",
   "metadata": {},
   "outputs": [
    {
     "name": "stdout",
     "output_type": "stream",
     "text": [
      "Seu E-mail possui '@'? True\n"
     ]
    }
   ],
   "source": [
    "eMail = input(\"Informe o seu E-mail: \")\n",
    "\n",
    "print(\"Seu E-mail possui '@'?\", \"@\" in eMail)"
   ]
  }
 ],
 "metadata": {
  "kernelspec": {
   "display_name": ".venv",
   "language": "python",
   "name": "python3"
  },
  "language_info": {
   "codemirror_mode": {
    "name": "ipython",
    "version": 3
   },
   "file_extension": ".py",
   "mimetype": "text/x-python",
   "name": "python",
   "nbconvert_exporter": "python",
   "pygments_lexer": "ipython3",
   "version": "3.13.3"
  }
 },
 "nbformat": 4,
 "nbformat_minor": 5
}
