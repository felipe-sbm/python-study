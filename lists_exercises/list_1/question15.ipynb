{
 "cells": [
  {
   "cell_type": "markdown",
   "id": "2c7c4723",
   "metadata": {},
   "source": [
    "### Exercícios com Operadores Lógicos e Matemáticos\n",
    "---\n",
    "#### **15. Verificação de Aptidão para Campeonato**\n",
    "\n",
    "Para participar de um campeonato de um jogo online, um jogador precisa atender a certos critérios. Sua tarefa é usar **operadores lógicos** para verificar se um jogador está apto.\n",
    "\n",
    "**Requisitos para o Campeonato:**\n",
    "\n",
    "  - Nível do personagem ser maior ou igual a 50.\n",
    "  - Possuir uma espada lendária **OU** um escudo mágico.\n",
    "  - Ser um assinante 'Premium'.\n",
    "  - **NÃO** pode ter um histórico de banimento."
   ]
  },
  {
   "cell_type": "code",
   "execution_count": 3,
   "id": "8b6bf481",
   "metadata": {},
   "outputs": [
    {
     "name": "stdout",
     "output_type": "stream",
     "text": [
      "Você está apto para jogar o campeonato? True\n"
     ]
    }
   ],
   "source": [
    "nívelJogador = int(input(\"Informe o nível do seu personagem\"))\n",
    "espadaLendária = input(\"Você possui uma espada lendária? \")\n",
    "escudoMágico = input(\"Você possui um escudo mágico? \")\n",
    "assinaturaPremium = input(\"Você é assintante Premium? \")\n",
    "históricoBan = input(\"Você já foi banido alguma vez? \")\n",
    "\n",
    "verificadorNível = nívelJogador >= 50\n",
    "verificadorEspada = \"sim\" in espadaLendária.lower()\n",
    "verificadorEscudo = \"sim\" in escudoMágico.lower()\n",
    "verificadorPremium = \"sim\" in assinaturaPremium.lower()\n",
    "verificadorBan = \"não\" in históricoBan.lower()\n",
    "\n",
    "itensObrigatórios = verificadorEspada or verificadorEscudo\n",
    "aptidãoJogador = verificadorNível and itensObrigatórios and verificadorPremium and verificadorBan\n",
    "\n",
    "print(\"Você está apto para jogar o campeonato?\", aptidãoJogador)"
   ]
  }
 ],
 "metadata": {
  "kernelspec": {
   "display_name": ".venv",
   "language": "python",
   "name": "python3"
  },
  "language_info": {
   "codemirror_mode": {
    "name": "ipython",
    "version": 3
   },
   "file_extension": ".py",
   "mimetype": "text/x-python",
   "name": "python",
   "nbconvert_exporter": "python",
   "pygments_lexer": "ipython3",
   "version": "3.13.3"
  }
 },
 "nbformat": 4,
 "nbformat_minor": 5
}
