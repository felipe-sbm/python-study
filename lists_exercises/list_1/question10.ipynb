{
 "cells": [
  {
   "cell_type": "markdown",
   "id": "07935f30",
   "metadata": {},
   "source": [
    "### Exercícios de Manipulação de Strings\n",
    "---\n",
    "#### **10. Análise de Nome Completo**\n",
    "\n",
    "Solicite o nome completo do usuário e:\n",
    "- a. Mostre quantos caracteres ele possui (sem contar espaços)\n",
    "- b. Mostre apenas os três primeiros caracteres\n",
    "- c. Mostre se o sobrenome \"Silva\" está no nome"
   ]
  },
  {
   "cell_type": "code",
   "execution_count": null,
   "id": "9b48a70f",
   "metadata": {},
   "outputs": [
    {
     "name": "stdout",
     "output_type": "stream",
     "text": [
      "\n",
      "Seu nome possui 27 caracteres,\n",
      "os 3 primeiros digitos do seu nome são: 'Fel' e\n",
      "o seu nome tem Silva? -> False.\n",
      "\n"
     ]
    }
   ],
   "source": [
    "nomeCompleto = input(\"Informe seu nome completo: \")\n",
    "\n",
    "tamanhoNome = len(nomeCompleto.replace(\" \", \"\"))\n",
    "tresPrimeros = nomeCompleto[0:3]\n",
    "temSilva = \"silva\" in nomeCompleto.lower()\n",
    "\n",
    "print(f\"\"\"\n",
    "Seu nome possui {tamanhoNome} caracteres,\n",
    "os 3 primeiros digitos do seu nome são: '{tresPrimeros}' e\n",
    "o seu nome tem Silva? -> {temSilva}.\n",
    "\"\"\")"
   ]
  }
 ],
 "metadata": {
  "kernelspec": {
   "display_name": ".venv",
   "language": "python",
   "name": "python3"
  },
  "language_info": {
   "codemirror_mode": {
    "name": "ipython",
    "version": 3
   },
   "file_extension": ".py",
   "mimetype": "text/x-python",
   "name": "python",
   "nbconvert_exporter": "python",
   "pygments_lexer": "ipython3",
   "version": "3.13.3"
  }
 },
 "nbformat": 4,
 "nbformat_minor": 5
}
