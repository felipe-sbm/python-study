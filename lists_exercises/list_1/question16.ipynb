{
 "cells": [
  {
   "cell_type": "markdown",
   "id": "a7ec9eec",
   "metadata": {},
   "source": [
    "### Exercícios com Operadores Lógicos e Matemáticos\n",
    "---\n",
    "#### **16. Cálculo de Medidas para Construção**\n",
    "\n",
    "Você é um engenheiro calculando algumas medidas para a construção de uma nova praça circular. Você precisa determinar a área total da praça, o comprimento da cerca necessária para contorná-la e a distância diagonal de um terreno retangular adjacente onde ficará o estacionamento.\n",
    "\n",
    "**Dados:**\n",
    "\n",
    "  - Raio da praça circular: 15 metros\n",
    "  - Comprimento do estacionamento retangular: 40 metros\n",
    "  - Largura do estacionamento retangular: 25 metros\n",
    "\n",
    "**Instruções:**\n",
    "\n",
    "  - Importe a biblioteca `math`.\n",
    "  - Calcule a área da praça circular usando a fórmula `A = pi * r^2`.\n",
    "  - Calcule o comprimento da cerca (a circunferência da praça). A fórmula é `C = 2 * pi * r`.\n",
    "  - Calcule a distância da diagonal do estacionamento usando o Teorema de Pitágoras `d = √(a^2 + b^2)`.\n"
   ]
  },
  {
   "cell_type": "code",
   "execution_count": 5,
   "id": "38706093",
   "metadata": {},
   "outputs": [
    {
     "name": "stdout",
     "output_type": "stream",
     "text": [
      "\n",
      "A área da Praça é: 102943.70807283034 metros.\n",
      "A circunferência da praça é de: 94.24777960769379 metros.\n",
      "A distância diagonal do estacionamento é de: 1048591.9998779316 metros.\n",
      "\n"
     ]
    }
   ],
   "source": [
    "import math\n",
    "\n",
    "raio = 15\n",
    "comprimento = 40\n",
    "largura = 25\n",
    "\n",
    "A = math.pi * math.pow(2, raio)\n",
    "C = 2 * math.pi * raio\n",
    "d = math.sqrt(math.pow(2, comprimento) + math.pow(2, largura))\n",
    "\n",
    "print(f\"\"\"\n",
    "A área da Praça é: {A} metros.\n",
    "A circunferência da praça é de: {C} metros.\n",
    "A distância diagonal do estacionamento é de: {d} metros.\n",
    "\"\"\")"
   ]
  }
 ],
 "metadata": {
  "kernelspec": {
   "display_name": ".venv",
   "language": "python",
   "name": "python3"
  },
  "language_info": {
   "codemirror_mode": {
    "name": "ipython",
    "version": 3
   },
   "file_extension": ".py",
   "mimetype": "text/x-python",
   "name": "python",
   "nbconvert_exporter": "python",
   "pygments_lexer": "ipython3",
   "version": "3.13.3"
  }
 },
 "nbformat": 4,
 "nbformat_minor": 5
}
