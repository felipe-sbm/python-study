{
 "cells": [
  {
   "cell_type": "markdown",
   "id": "bcdf5088",
   "metadata": {},
   "source": [
    "### Exercícios de Lógica de Programação\n",
    "---\n",
    "#### **4. Área e Comprimento da Circunferência**\n",
    "\n",
    "Altere o programa do item 3. Além de mostrar a área de circunferência, também deve mostrar o comprimento.\n"
   ]
  },
  {
   "cell_type": "code",
   "execution_count": 1,
   "id": "1ac86535",
   "metadata": {},
   "outputs": [
    {
     "name": "stdout",
     "output_type": "stream",
     "text": [
      "A área total da circunferência é: 706.50\n",
      "E o comprimento é: 94.20\n"
     ]
    }
   ],
   "source": [
    "raio = float(input(\"Informe o raio da circunferência: \"))\n",
    "\n",
    "área = 3.14 * (raio * raio)\n",
    "comprimento = 2 * 3.14  * raio\n",
    "\n",
    "print(\"A área total da circunferência é: %.2f\" % área)\n",
    "print(\"E o comprimento é: %.2f\" % comprimento)"
   ]
  }
 ],
 "metadata": {
  "kernelspec": {
   "display_name": ".venv",
   "language": "python",
   "name": "python3"
  },
  "language_info": {
   "codemirror_mode": {
    "name": "ipython",
    "version": 3
   },
   "file_extension": ".py",
   "mimetype": "text/x-python",
   "name": "python",
   "nbconvert_exporter": "python",
   "pygments_lexer": "ipython3",
   "version": "3.13.3"
  }
 },
 "nbformat": 4,
 "nbformat_minor": 5
}
