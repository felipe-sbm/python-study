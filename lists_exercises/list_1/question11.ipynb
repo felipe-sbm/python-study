{
 "cells": [
  {
   "cell_type": "markdown",
   "id": "18bd2fa9",
   "metadata": {},
   "source": [
    "### Exercícios de Manipulação de Strings\n",
    "---\n",
    "#### **11. Análise de Frase**\n",
    "\n",
    "Solicite uma frase ao usuário e:\n",
    "- a. Exiba o tamanho total da frase\n",
    "- b. Mostre se a palavra \"Python\" aparece nela\n",
    "- c. Mostre os 5 últimos caracteres da frase"
   ]
  },
  {
   "cell_type": "code",
   "execution_count": 3,
   "id": "ae1a7c54",
   "metadata": {},
   "outputs": [
    {
     "name": "stdout",
     "output_type": "stream",
     "text": [
      "A frase possui 'Python'? True\n",
      "As 5 últimas letras da frase são: ython\n"
     ]
    }
   ],
   "source": [
    "frase = input(\"Digite uma frase qualquer: \")\n",
    "\n",
    "python = \"python\" in frase.lower()\n",
    "ultimasLetras = frase[-5:]\n",
    "\n",
    "print(\"A frase possui 'Python'?\", python)\n",
    "print(\"As 5 últimas letras da frase são:\", ultimasLetras)"
   ]
  }
 ],
 "metadata": {
  "kernelspec": {
   "display_name": ".venv",
   "language": "python",
   "name": "python3"
  },
  "language_info": {
   "codemirror_mode": {
    "name": "ipython",
    "version": 3
   },
   "file_extension": ".py",
   "mimetype": "text/x-python",
   "name": "python",
   "nbconvert_exporter": "python",
   "pygments_lexer": "ipython3",
   "version": "3.13.3"
  }
 },
 "nbformat": 4,
 "nbformat_minor": 5
}
