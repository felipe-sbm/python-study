{
 "cells": [
  {
   "cell_type": "markdown",
   "id": "cf538d39",
   "metadata": {},
   "source": [
    "### Exercícios de Lógica Avançada e Múltiplas Condições\n",
    "---\n",
    "#### **14. Análise de Dados Pessoais**\n",
    "\n",
    "Peça ao usuário:\n",
    "- a. Nome completo\n",
    "- b. Ano de nascimento\n",
    "- c. Número de um documento (como CPF sem pontuação, ex: 12345678901)\n",
    "\n",
    "Exiba:\n",
    "- i. As iniciais do nome\n",
    "- ii. A idade da pessoa considerando o ano atual como 2025\n",
    "- iii. Os três últimos dígitos do documento invertidos\n",
    "- iv. Se o nome contém a letra \"z\" ou se o número do documento tem mais de 11 caracteres"
   ]
  },
  {
   "cell_type": "code",
   "execution_count": null,
   "id": "95a8e3c1",
   "metadata": {},
   "outputs": [
    {
     "name": "stdout",
     "output_type": "stream",
     "text": [
      "\n",
      "As iniciais do seu nome são: FS\n",
      "A sua idade é: 20\n",
      "Os últimos dígitos invertidos do seu documento são: 321\n",
      "Seu nome possui a letra \"Z\" ou seu documento tem mais que 11 caracteres? False\n",
      "\n"
     ]
    }
   ],
   "source": [
    "nomeCompleto = input(\"Informe o seu nome completo: \")\n",
    "anoNascimento = int(input(\"Informe o seu ano de nascimento: \"))\n",
    "númeroDocumento = input(\"Informe seu CPF sem pontuação: \")\n",
    "\n",
    "partesNome = nomeCompleto.split()\n",
    "iniciaisNome = \"\".join([nome[0].upper() for nome in partesNome])\n",
    "idadeUsuário = 2025 - anoNascimento\n",
    "ultimosDigitos = númeroDocumento[-3:][::-1]\n",
    "verificaçãoUsuário = \"z\" in nomeCompleto.lower() or len(númeroDocumento) > 11\n",
    "\n",
    "print(f\"\"\"\n",
    "As iniciais do seu nome são: {iniciaisNome}\n",
    "A sua idade é: {idadeUsuário}\n",
    "Os últimos dígitos invertidos do seu documento são: {ultimosDigitos}\n",
    "Seu nome possui a letra \"Z\" ou seu documento tem mais que 11 caracteres? {verificaçãoUsuário}\n",
    "\"\"\")"
   ]
  }
 ],
 "metadata": {
  "kernelspec": {
   "display_name": ".venv",
   "language": "python",
   "name": "python3"
  },
  "language_info": {
   "codemirror_mode": {
    "name": "ipython",
    "version": 3
   },
   "file_extension": ".py",
   "mimetype": "text/x-python",
   "name": "python",
   "nbconvert_exporter": "python",
   "pygments_lexer": "ipython3",
   "version": "3.13.3"
  }
 },
 "nbformat": 4,
 "nbformat_minor": 5
}
