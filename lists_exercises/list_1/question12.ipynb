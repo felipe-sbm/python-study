{
 "cells": [
  {
   "cell_type": "markdown",
   "id": "42637170",
   "metadata": {},
   "source": [
    "### Exercícios de Manipulação de Strings\n",
    "---\n",
    "#### **12. Análise de Usuário e Senha**\n",
    "\n",
    "Peça ao usuário:\n",
    "- a. Um nome de usuário\n",
    "- b. Uma senha\n",
    "\n",
    "Mostre na tela: O nome de usuário com as 3 primeiras letras em maiúsculo, quantos caracteres tem a senha e se a senha contém o nome de usuário."
   ]
  },
  {
   "cell_type": "code",
   "execution_count": null,
   "id": "2045dda6",
   "metadata": {},
   "outputs": [
    {
     "name": "stdout",
     "output_type": "stream",
     "text": [
      "O seu usuário é: SAM\n",
      "A sua senha possui 8 caracteres.\n",
      "A senha possui o nome do usuário? True\n"
     ]
    }
   ],
   "source": [
    "nomeUsuário = input(\"Informe um nome para seu Usuário: \")\n",
    "senhaUsuário = input(f\"Informa a senha para {nomeUsuário}: \")\n",
    "\n",
    "nomeCurto = nomeUsuário[0:3].upper()\n",
    "tamanhoSenha = len(senhaUsuário)\n",
    "nomeNaSenha = nomeUsuário.lower() in senhaUsuário.lower()\n",
    "\n",
    "print(\"O seu usuário é:\", nomeCurto)\n",
    "print(\"A sua senha possui %d caracteres.\" % tamanhoSenha)\n",
    "print(\"A senha possui o nome do usuário?\", nomeNaSenha)"
   ]
  }
 ],
 "metadata": {
  "kernelspec": {
   "display_name": ".venv",
   "language": "python",
   "name": "python3"
  },
  "language_info": {
   "codemirror_mode": {
    "name": "ipython",
    "version": 3
   },
   "file_extension": ".py",
   "mimetype": "text/x-python",
   "name": "python",
   "nbconvert_exporter": "python",
   "pygments_lexer": "ipython3",
   "version": "3.13.3"
  }
 },
 "nbformat": 4,
 "nbformat_minor": 5
}
