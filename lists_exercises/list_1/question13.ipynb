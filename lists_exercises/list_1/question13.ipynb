{
 "cells": [
  {
   "cell_type": "markdown",
   "id": "e5652f77",
   "metadata": {},
   "source": [
    "### Exercícios de Lógica Avançada e Múltiplas Condições\n",
    "---\n",
    "#### **13. Extrato Bancário Simples**\n",
    "\n",
    "Peça ao usuário:\n",
    "- a. Saldo da conta\n",
    "- b. Valor de um depósito\n",
    "- c. Valor de um saque\n",
    "\n",
    "Exiba:\n",
    "- i. O novo saldo após depósito e saque\n",
    "- ii. Se o saldo ficou negativo\n",
    "- iii. Se o saque foi maior que o saldo original\n",
    "- iv. Se o valor total movimentado (depósito + saque) foi superior a R$1000"
   ]
  },
  {
   "cell_type": "code",
   "execution_count": 1,
   "id": "25e1895c",
   "metadata": {},
   "outputs": [
    {
     "name": "stdout",
     "output_type": "stream",
     "text": [
      "\n",
      "Seu saldo ficou: 3488.0\n",
      "O seu saldo ficou negativo? False\n",
      "O saque foi maior do que o saldo original? False\n",
      "A moviemntação total foi maior que R$: 1000.00? True\n",
      "\n"
     ]
    }
   ],
   "source": [
    "valorSaldo = float(input(\"Informe o saldo da sua conta: \"))\n",
    "valorDepósito = abs(float(input(\"Quanto você quer depositar? \")))\n",
    "valorSaque = abs(float(input(\"Informe o valor do seu saque: \")))\n",
    "\n",
    "operação1 = valorSaldo + valorDepósito\n",
    "operação2 = operação1 - valorSaque\n",
    "movimentação = valorSaque + valorDepósito\n",
    "\n",
    "print(f\"\"\"\n",
    "Seu saldo ficou: R$:{operação2}\n",
    "O seu saldo ficou negativo? {operação2 < 0}\n",
    "O saque foi maior do que o saldo original? {valorSaque > valorSaldo}\n",
    "A moviemntação total foi maior que R$: 1000.00? {movimentação > 1000}\n",
    "\"\"\")"
   ]
  }
 ],
 "metadata": {
  "kernelspec": {
   "display_name": ".venv",
   "language": "python",
   "name": "python3"
  },
  "language_info": {
   "codemirror_mode": {
    "name": "ipython",
    "version": 3
   },
   "file_extension": ".py",
   "mimetype": "text/x-python",
   "name": "python",
   "nbconvert_exporter": "python",
   "pygments_lexer": "ipython3",
   "version": "3.13.3"
  }
 },
 "nbformat": 4,
 "nbformat_minor": 5
}
