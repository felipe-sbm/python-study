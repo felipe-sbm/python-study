{
 "cells": [
  {
   "cell_type": "markdown",
   "id": "5d54d7e8",
   "metadata": {},
   "source": [
    "### Exercícios de Lógica de Programação\n",
    "---\n",
    "#### **2. Cálculo de Idade Futura**\n",
    "\n",
    "Implemente um programa que recebe como entrada o valor de sua idade e mostre, na saída, qual será sua idade daqui a 10 anos."
   ]
  },
  {
   "cell_type": "code",
   "execution_count": null,
   "id": "f3c67035",
   "metadata": {},
   "outputs": [
    {
     "name": "stdout",
     "output_type": "stream",
     "text": [
      "Daqui a 10 anos você terá 29 anos!\n"
     ]
    }
   ],
   "source": [
    "idade = int(input(\"Informe sua idade: \"))\n",
    "\n",
    "print(\"Daqui a 10 anos você terá %d anos!\" % (idade + 10))"
   ]
  }
 ],
 "metadata": {
  "kernelspec": {
   "display_name": ".venv",
   "language": "python",
   "name": "python3"
  },
  "language_info": {
   "codemirror_mode": {
    "name": "ipython",
    "version": 3
   },
   "file_extension": ".py",
   "mimetype": "text/x-python",
   "name": "python",
   "nbconvert_exporter": "python",
   "pygments_lexer": "ipython3",
   "version": "3.13.3"
  }
 },
 "nbformat": 4,
 "nbformat_minor": 5
}
