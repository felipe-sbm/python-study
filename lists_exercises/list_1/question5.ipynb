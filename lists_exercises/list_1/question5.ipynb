{
 "cells": [
  {
   "cell_type": "markdown",
   "id": "c088da7b",
   "metadata": {},
   "source": [
    "### Exercícios de Lógica de Programação\n",
    "---\n",
    "#### **5. Comparação de Preços**\n",
    "\n",
    "Solicite ao usuário os preços de dois produtos e exiba se o primeiro é mais barato, mais caro ou igual ao segundo, utilizando operadores relacionais."
   ]
  },
  {
   "cell_type": "code",
   "execution_count": 1,
   "id": "6fe9ed9f",
   "metadata": {},
   "outputs": [
    {
     "name": "stdout",
     "output_type": "stream",
     "text": [
      "O primeiro é mais barato? True\n",
      "O segundo é mais barato? False\n",
      "Eles são o mesmo valor? False\n"
     ]
    }
   ],
   "source": [
    "produto1 = float(input(\"Insira o valor do primeiro produto: \"))\n",
    "produto2 = float(input(\"Insira o valor do segundo produto: \"))\n",
    "\n",
    "primeiroMenor = produto1 < produto2\n",
    "segundoMenor = produto1 > produto2\n",
    "valoresIguais = produto1 == produto2\n",
    "\n",
    "print(\"O primeiro é mais barato?\", primeiroMenor)\n",
    "print(\"O segundo é mais barato?\", segundoMenor)\n",
    "print(\"Eles são o mesmo valor?\", valoresIguais)"
   ]
  }
 ],
 "metadata": {
  "kernelspec": {
   "display_name": ".venv",
   "language": "python",
   "name": "python3"
  },
  "language_info": {
   "codemirror_mode": {
    "name": "ipython",
    "version": 3
   },
   "file_extension": ".py",
   "mimetype": "text/x-python",
   "name": "python",
   "nbconvert_exporter": "python",
   "pygments_lexer": "ipython3",
   "version": "3.13.3"
  }
 },
 "nbformat": 4,
 "nbformat_minor": 5
}
