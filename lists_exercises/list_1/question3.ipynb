{
 "cells": [
  {
   "cell_type": "markdown",
   "id": "73e5a920",
   "metadata": {},
   "source": [
    "### Exercícios de Lógica de Programação\n",
    "---\n",
    "#### **3. Área da Circunferência**\n",
    "\n",
    "Implemente um programa que, dado o raio, calcule e mostre no terminal a área da circunferência."
   ]
  },
  {
   "cell_type": "code",
   "execution_count": 1,
   "id": "f9b5a1b8",
   "metadata": {},
   "outputs": [
    {
     "name": "stdout",
     "output_type": "stream",
     "text": [
      "A área total da circunferência é: 314.00\n"
     ]
    }
   ],
   "source": [
    "raio = float(input(\"Informe o raio da circunferência: \"))\n",
    "\n",
    "área = 3.14 * (raio * raio)\n",
    "\n",
    "print(\"A área total da circunferência é: %.2f\" % área)"
   ]
  }
 ],
 "metadata": {
  "kernelspec": {
   "display_name": ".venv",
   "language": "python",
   "name": "python3"
  },
  "language_info": {
   "codemirror_mode": {
    "name": "ipython",
    "version": 3
   },
   "file_extension": ".py",
   "mimetype": "text/x-python",
   "name": "python",
   "nbconvert_exporter": "python",
   "pygments_lexer": "ipython3",
   "version": "3.13.3"
  }
 },
 "nbformat": 4,
 "nbformat_minor": 5
}
