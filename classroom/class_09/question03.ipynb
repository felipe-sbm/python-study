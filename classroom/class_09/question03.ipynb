{
 "cells": [
  {
   "cell_type": "markdown",
   "id": "9cfe24c6",
   "metadata": {},
   "source": [
    "### **Exercícios de Programação em Python - Estruturas de Repetição**\n",
    "---\n",
    "#### Questão 03 - Controle de Temperatura:\n",
    "\n",
    "Implemente um programa que vai ser executado em um sistema de controle de temperatura. O sistema recebe de um sensor o valor da temperatura atual (nesse caso será fornecido pelo usuário), e ele informa na sua saída **o status da temperatura**, e aguarda **uma nova leitura**. O processo continua até que o usuário **feche o programa** OU forneça: `-300` 🥶. Enquanto permanecer aberto, deve ler um sinal de temperatura e retornar um status.\n",
    "\n",
    "- `Temperatura < 0`: **Status**: Muito Frio;\n",
    "- `Temperatura >= 0 e Temperatura < 12`: **Status**: Frio;\n",
    "- `Temperatura >= 12 e Temperatura < 18`: **Status**: Intermediária;\n",
    "- `Temperatura >= 18 e Temperatura < 24`: **Status**: Agradável;\n",
    "- `Temperatura >= 24 e Temperatura < 30`: **Status**: Calor;\n",
    "- `Temperatura > 30`: **Status**: Muito Calor."
   ]
  },
  {
   "cell_type": "code",
   "execution_count": 1,
   "id": "2e08ce54",
   "metadata": {},
   "outputs": [
    {
     "name": "stdout",
     "output_type": "stream",
     "text": [
      "Intermediária\n",
      "Frio\n",
      "Frio\n",
      "Muito Frio\n",
      "Muito Frio\n",
      "Muito Frio\n",
      "Muito Frio\n",
      "Fim do programa.\n"
     ]
    }
   ],
   "source": [
    "temperaturaAtual = 0\n",
    "programaAtivo = True\n",
    "\n",
    "while programaAtivo:\n",
    "    temperaturaAtual = int(input(\"Informe o valor da temperatura atual: \"))\n",
    "    if temperaturaAtual != -300:\n",
    "        if temperaturaAtual < 0:\n",
    "            print(\"Muito Frio\")\n",
    "        elif temperaturaAtual >= 0 and temperaturaAtual < 12:\n",
    "            print(\"Frio\")\n",
    "        elif temperaturaAtual >= 12 and temperaturaAtual < 18:\n",
    "            print(\"Intermediária\")\n",
    "        elif temperaturaAtual >= 18 and temperaturaAtual < 24:\n",
    "            print(\"Agradável\")\n",
    "        elif temperaturaAtual >= 24 and temperaturaAtual < 30:\n",
    "            print(\"Calor\")\n",
    "        elif temperaturaAtual > 30:\n",
    "            print(\"Muito Calor\")\n",
    "    else:\n",
    "        programaAtivo = False\n",
    "        break\n",
    "\n",
    "print(\"Fim do programa.\")"
   ]
  }
 ],
 "metadata": {
  "kernelspec": {
   "display_name": ".venv",
   "language": "python",
   "name": "python3"
  },
  "language_info": {
   "codemirror_mode": {
    "name": "ipython",
    "version": 3
   },
   "file_extension": ".py",
   "mimetype": "text/x-python",
   "name": "python",
   "nbconvert_exporter": "python",
   "pygments_lexer": "ipython3",
   "version": "3.13.3"
  }
 },
 "nbformat": 4,
 "nbformat_minor": 5
}
