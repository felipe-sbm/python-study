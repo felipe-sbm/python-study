{
 "cells": [
  {
   "cell_type": "markdown",
   "id": "d54b6463",
   "metadata": {},
   "source": [
    "### **Exercícios de Programação em Python - Estruturas de Repetição**\n",
    "---\n",
    "#### Questão 02 - O jogo do 21:\n",
    "\n",
    "Implemente um programa que deve ler números do usuário e **só deve parar quando a soma dos números fornecidos for maior ou igual a 21**."
   ]
  },
  {
   "cell_type": "code",
   "execution_count": 8,
   "id": "7dedff23",
   "metadata": {},
   "outputs": [
    {
     "name": "stdout",
     "output_type": "stream",
     "text": [
      "Você está com 10 acumulados\n",
      "Você está com 18 acumulados\n",
      "Você está com 20 acumulados\n",
      "Seu total foi de: 21\n"
     ]
    }
   ],
   "source": [
    "jogoAtivo = True\n",
    "totalNúmero = 0\n",
    "\n",
    "while jogoAtivo:\n",
    "    númeroUsuário = int(input(\"Informe o número que você recebeu: \"))\n",
    "    totalNúmero += númeroUsuário\n",
    "\n",
    "    if totalNúmero >= 21:\n",
    "        print(\"Seu total foi de: %d\" % totalNúmero)\n",
    "        jogoAtivo = False\n",
    "        break\n",
    "    else:\n",
    "        print(\"Você está com %d acumulados\" % totalNúmero)\n"
   ]
  }
 ],
 "metadata": {
  "kernelspec": {
   "display_name": ".venv",
   "language": "python",
   "name": "python3"
  },
  "language_info": {
   "codemirror_mode": {
    "name": "ipython",
    "version": 3
   },
   "file_extension": ".py",
   "mimetype": "text/x-python",
   "name": "python",
   "nbconvert_exporter": "python",
   "pygments_lexer": "ipython3",
   "version": "3.13.3"
  }
 },
 "nbformat": 4,
 "nbformat_minor": 5
}
