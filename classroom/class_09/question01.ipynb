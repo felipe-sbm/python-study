{
 "cells": [
  {
   "cell_type": "markdown",
   "id": "d7f38445",
   "metadata": {},
   "source": [
    "### **Exercícios de Programação em Python - Estruturas de Repetição**\n",
    "---\n",
    "#### Questão 01 - Listagem de Potências:\n",
    "\n",
    "Implemente um programa que liste todas as potências de `3`, de `0` até `10`. Saída esperada: `1`, `3`, `9`, `27`, `81`..."
   ]
  },
  {
   "cell_type": "code",
   "execution_count": null,
   "id": "3f76247e",
   "metadata": {},
   "outputs": [
    {
     "name": "stdout",
     "output_type": "stream",
     "text": [
      "1\n",
      "3\n",
      "9\n",
      "27\n",
      "81\n",
      "243\n",
      "729\n",
      "2187\n",
      "6561\n",
      "19683\n",
      "59049\n"
     ]
    }
   ],
   "source": [
    "potênciaUsuário = 3\n",
    "potênciaTotal = 0\n",
    "contadorPotência = 0\n",
    "potênciaMaxima = 10\n",
    "\n",
    "while contadorPotência <= potênciaMaxima:\n",
    "    potênciaTotal = pow(potênciaUsuário, contadorPotência)\n",
    "    contadorPotência += 1\n",
    "    print(potênciaTotal)\n",
    "\n",
    "# Professor Jean, coloquei o código com várias variáveis\n",
    "# caso queira deixar dinâmico futuramente. :-)"
   ]
  }
 ],
 "metadata": {
  "kernelspec": {
   "display_name": ".venv",
   "language": "python",
   "name": "python3"
  },
  "language_info": {
   "codemirror_mode": {
    "name": "ipython",
    "version": 3
   },
   "file_extension": ".py",
   "mimetype": "text/x-python",
   "name": "python",
   "nbconvert_exporter": "python",
   "pygments_lexer": "ipython3",
   "version": "3.13.3"
  }
 },
 "nbformat": 4,
 "nbformat_minor": 5
}
